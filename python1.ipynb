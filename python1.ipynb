{
 "cells": [
  {
   "cell_type": "code",
   "execution_count": 1,
   "id": "e11a175b-ac37-4409-92f2-0d029ce0f829",
   "metadata": {},
   "outputs": [
    {
     "name": "stdout",
     "output_type": "stream",
     "text": [
      "Hello World\n"
     ]
    }
   ],
   "source": [
    "print(\"Hello World\")"
   ]
  },
  {
   "cell_type": "code",
   "execution_count": 8,
   "id": "8f2d5889-d861-4689-ac39-92a0a26290d6",
   "metadata": {},
   "outputs": [
    {
     "name": "stdout",
     "output_type": "stream",
     "text": [
      "5\n"
     ]
    }
   ],
   "source": [
    "x=2\n",
    "y=3\n",
    "z=x+y\n",
    "print(z)"
   ]
  },
  {
   "cell_type": "code",
   "execution_count": 9,
   "id": "96b00b79-3e25-4875-b505-bfa776f0fe43",
   "metadata": {},
   "outputs": [
    {
     "ename": "SyntaxError",
     "evalue": "invalid syntax (2639590658.py, line 1)",
     "output_type": "error",
     "traceback": [
      "\u001b[1;36m  Cell \u001b[1;32mIn[9], line 1\u001b[1;36m\u001b[0m\n\u001b[1;33m    first name='pranathi'\u001b[0m\n\u001b[1;37m          ^\u001b[0m\n\u001b[1;31mSyntaxError\u001b[0m\u001b[1;31m:\u001b[0m invalid syntax\n"
     ]
    }
   ],
   "source": [
    "first name='pranathi'\n",
    "print(first name)"
   ]
  },
  {
   "cell_type": "code",
   "execution_count": 10,
   "id": "c573906d-27a6-4885-a4e5-8c75219cda43",
   "metadata": {},
   "outputs": [
    {
     "name": "stdout",
     "output_type": "stream",
     "text": [
      "pranathi\n"
     ]
    }
   ],
   "source": [
    "firstname='pranathi'\n",
    "print(firstname)"
   ]
  },
  {
   "cell_type": "code",
   "execution_count": 13,
   "id": "23d187d1-5176-424c-82a5-2883bb9001bd",
   "metadata": {},
   "outputs": [
    {
     "ename": "SyntaxError",
     "evalue": "invalid decimal literal (3119380893.py, line 1)",
     "output_type": "error",
     "traceback": [
      "\u001b[1;36m  Cell \u001b[1;32mIn[13], line 1\u001b[1;36m\u001b[0m\n\u001b[1;33m    1name='bindu'\u001b[0m\n\u001b[1;37m    ^\u001b[0m\n\u001b[1;31mSyntaxError\u001b[0m\u001b[1;31m:\u001b[0m invalid decimal literal\n"
     ]
    }
   ],
   "source": [
    "1name='bindu'\n",
    "print(1name)"
   ]
  },
  {
   "cell_type": "code",
   "execution_count": 14,
   "id": "2a433568-d8a4-432d-9352-dad3d0680ba0",
   "metadata": {},
   "outputs": [
    {
     "ename": "SyntaxError",
     "evalue": "invalid syntax (259735215.py, line 2)",
     "output_type": "error",
     "traceback": [
      "\u001b[1;36m  Cell \u001b[1;32mIn[14], line 2\u001b[1;36m\u001b[0m\n\u001b[1;33m    print(name@)\u001b[0m\n\u001b[1;37m               ^\u001b[0m\n\u001b[1;31mSyntaxError\u001b[0m\u001b[1;31m:\u001b[0m invalid syntax\n"
     ]
    }
   ],
   "source": [
    "name@='pranathi'\n",
    "print(name@)"
   ]
  },
  {
   "cell_type": "code",
   "execution_count": 15,
   "id": "26887f37-6b18-4c83-99ec-8ed6609b7965",
   "metadata": {},
   "outputs": [
    {
     "name": "stdout",
     "output_type": "stream",
     "text": [
      "pranathi\n"
     ]
    }
   ],
   "source": [
    "name=\"pranathi\"\n",
    "print(name)"
   ]
  },
  {
   "cell_type": "code",
   "execution_count": 16,
   "id": "2d2cdb1f-17be-4d9b-8fed-5edb8efd4173",
   "metadata": {},
   "outputs": [
    {
     "data": {
      "text/plain": [
       "str"
      ]
     },
     "execution_count": 16,
     "metadata": {},
     "output_type": "execute_result"
    }
   ],
   "source": [
    "type(name)"
   ]
  },
  {
   "cell_type": "code",
   "execution_count": 17,
   "id": "09fdc7fa-189d-4ef8-8633-2d90a229e796",
   "metadata": {},
   "outputs": [
    {
     "data": {
      "text/plain": [
       "int"
      ]
     },
     "execution_count": 17,
     "metadata": {},
     "output_type": "execute_result"
    }
   ],
   "source": [
    "type(z)"
   ]
  },
  {
   "cell_type": "code",
   "execution_count": 18,
   "id": "24b11663-c3ea-4463-9786-b6fb8514cfc7",
   "metadata": {},
   "outputs": [
    {
     "name": "stdout",
     "output_type": "stream",
     "text": [
      "pranathi anumalasetty\n"
     ]
    }
   ],
   "source": [
    "fullname='pranathi anumalasetty'\n",
    "print(fullname)"
   ]
  },
  {
   "cell_type": "code",
   "execution_count": 19,
   "id": "2c8aa35d-ca0a-4bba-93b7-bfc7704c4c64",
   "metadata": {},
   "outputs": [
    {
     "name": "stdout",
     "output_type": "stream",
     "text": [
      "Pranathi Anumalasetty\n"
     ]
    }
   ],
   "source": [
    "print(fullname.title())"
   ]
  },
  {
   "cell_type": "code",
   "execution_count": 20,
   "id": "50aecf59-e084-428f-88ad-c24d8cced825",
   "metadata": {},
   "outputs": [
    {
     "name": "stdout",
     "output_type": "stream",
     "text": [
      "PRANATHI ANUMALASETTY\n"
     ]
    }
   ],
   "source": [
    "print(fullname.upper())"
   ]
  },
  {
   "cell_type": "code",
   "execution_count": 21,
   "id": "0563e6a7-c6d4-4353-93cb-c5260a10e033",
   "metadata": {},
   "outputs": [
    {
     "name": "stdout",
     "output_type": "stream",
     "text": [
      "pranathi anumalasetty\n"
     ]
    }
   ],
   "source": [
    "print(fullname.lower())"
   ]
  },
  {
   "cell_type": "code",
   "execution_count": 24,
   "id": "9c656aa3-0838-43d9-8c06-052714c1729d",
   "metadata": {},
   "outputs": [
    {
     "name": "stdout",
     "output_type": "stream",
     "text": [
      "pranathi anumalasetty\n"
     ]
    }
   ],
   "source": [
    "firstname='pranathi'\n",
    "lastname='anumalasetty'\n",
    "fullname=f\"{firstname} {lastname}\"\n",
    "print(fullname)"
   ]
  },
  {
   "cell_type": "code",
   "execution_count": 25,
   "id": "ec970828-0207-4327-baee-79dfc6a4ecf7",
   "metadata": {},
   "outputs": [
    {
     "name": "stdout",
     "output_type": "stream",
     "text": [
      "Pranathi Anumalasetty\n"
     ]
    }
   ],
   "source": [
    "print(fullname.title())"
   ]
  },
  {
   "cell_type": "code",
   "execution_count": 26,
   "id": "34ae4e78-66b6-49bb-8501-f9ddfb704e59",
   "metadata": {},
   "outputs": [
    {
     "name": "stdout",
     "output_type": "stream",
     "text": [
      "keep up the good work, pranathi anumalasetty\n"
     ]
    }
   ],
   "source": [
    "message=f\"keep up the good work, {fullname}\"\n",
    "print(message)"
   ]
  },
  {
   "cell_type": "code",
   "execution_count": 27,
   "id": "629362dd-77e1-4172-980c-5f6bb3777546",
   "metadata": {},
   "outputs": [
    {
     "name": "stdout",
     "output_type": "stream",
     "text": [
      "keep up the good work, Pranathi Anumalasetty\n"
     ]
    }
   ],
   "source": [
    "message=f\"keep up the good work, {fullname.title()}\"\n",
    "print(message)"
   ]
  },
  {
   "cell_type": "code",
   "execution_count": 35,
   "id": "65f3807c-e73b-4089-83e5-35980cc670c8",
   "metadata": {},
   "outputs": [],
   "source": [
    "#concept of delimiters"
   ]
  },
  {
   "cell_type": "code",
   "execution_count": 36,
   "id": "ec8f84d1-57cb-4da2-903c-78b75638ac10",
   "metadata": {},
   "outputs": [
    {
     "name": "stdout",
     "output_type": "stream",
     "text": [
      "pythocjavac++\n"
     ]
    }
   ],
   "source": [
    "favorite_languages=\"pythocjavac++\"\n",
    "print(favorite_languages)"
   ]
  },
  {
   "cell_type": "code",
   "execution_count": 38,
   "id": "7081fb7f-7c6c-487c-92b6-2bbb0c234b79",
   "metadata": {},
   "outputs": [
    {
     "name": "stdout",
     "output_type": "stream",
     "text": [
      "favorite_languages:\n",
      "python\n",
      "c\n",
      "java\n",
      "c++\n"
     ]
    }
   ],
   "source": [
    "print(\"favorite_languages:\\npython\\nc\\njava\\nc++\")"
   ]
  },
  {
   "cell_type": "code",
   "execution_count": 39,
   "id": "27aef03c-abf1-4314-950d-69aae64106a7",
   "metadata": {},
   "outputs": [
    {
     "name": "stdout",
     "output_type": "stream",
     "text": [
      "favorite_languages:\n",
      "\tpython\n",
      "\tc\n",
      "\tjava\n",
      "\tc++\n"
     ]
    }
   ],
   "source": [
    "print(\"favorite_languages:\\n\\tpython\\n\\tc\\n\\tjava\\n\\tc++\")"
   ]
  },
  {
   "cell_type": "code",
   "execution_count": 40,
   "id": "44a5140e-1e09-4698-84e5-26c1885121d7",
   "metadata": {},
   "outputs": [],
   "source": [
    "#removing whitespaces"
   ]
  },
  {
   "cell_type": "code",
   "execution_count": 41,
   "id": "a8f799bf-7e80-4040-9ad7-928107ec52a4",
   "metadata": {},
   "outputs": [
    {
     "name": "stdout",
     "output_type": "stream",
     "text": [
      " python\n"
     ]
    }
   ],
   "source": [
    "name=\" python\"\n",
    "print(name)"
   ]
  },
  {
   "cell_type": "code",
   "execution_count": 42,
   "id": "172c9134-808a-47b5-aef1-a6c557669909",
   "metadata": {},
   "outputs": [
    {
     "name": "stdout",
     "output_type": "stream",
     "text": [
      "python \n"
     ]
    }
   ],
   "source": [
    "name1=\"python \"\n",
    "print(name1)"
   ]
  },
  {
   "cell_type": "code",
   "execution_count": 43,
   "id": "eb06d5ec-3294-4222-9447-4e1cec174d11",
   "metadata": {},
   "outputs": [
    {
     "data": {
      "text/plain": [
       "'python'"
      ]
     },
     "execution_count": 43,
     "metadata": {},
     "output_type": "execute_result"
    }
   ],
   "source": [
    "name.lstrip()"
   ]
  },
  {
   "cell_type": "code",
   "execution_count": 44,
   "id": "bd56a310-bc84-4af0-a555-6342365a8c6d",
   "metadata": {},
   "outputs": [
    {
     "data": {
      "text/plain": [
       "'python'"
      ]
     },
     "execution_count": 44,
     "metadata": {},
     "output_type": "execute_result"
    }
   ],
   "source": [
    "name1.rstrip()"
   ]
  },
  {
   "cell_type": "code",
   "execution_count": 45,
   "id": "66299622-0a91-48b1-84ac-f44da44266f9",
   "metadata": {},
   "outputs": [
    {
     "name": "stdout",
     "output_type": "stream",
     "text": [
      " python \n"
     ]
    }
   ],
   "source": [
    "name3=\" python \"\n",
    "print(name3)"
   ]
  },
  {
   "cell_type": "code",
   "execution_count": 46,
   "id": "4e7a1d8b-c7dc-4b87-8ef4-4e509e701b07",
   "metadata": {},
   "outputs": [],
   "source": [
    "#introdution to list"
   ]
  },
  {
   "cell_type": "code",
   "execution_count": 55,
   "id": "f3dcea84-876f-42a3-a073-87751bb3e7fe",
   "metadata": {},
   "outputs": [
    {
     "name": "stdout",
     "output_type": "stream",
     "text": [
      "rohit\n"
     ]
    }
   ],
   "source": [
    "students=['naveen', 'rohit', 'priya', 'sita']\n",
    "print(students[1])"
   ]
  },
  {
   "cell_type": "code",
   "execution_count": 56,
   "id": "21ec4e7c-73fd-4b2b-8e6c-68bd3be6acfa",
   "metadata": {},
   "outputs": [
    {
     "name": "stdout",
     "output_type": "stream",
     "text": [
      "['naveen', 'rohit', 'priya', 'sita']\n"
     ]
    }
   ],
   "source": [
    "print(students)"
   ]
  },
  {
   "cell_type": "code",
   "execution_count": 57,
   "id": "3a610179-23cd-4ec0-85eb-b43eea475ae2",
   "metadata": {},
   "outputs": [
    {
     "name": "stdout",
     "output_type": "stream",
     "text": [
      "naveen\n"
     ]
    }
   ],
   "source": [
    "print(students[0])"
   ]
  },
  {
   "cell_type": "code",
   "execution_count": 62,
   "id": "4b5192d8-3aa2-48df-81e8-953111d839d4",
   "metadata": {},
   "outputs": [],
   "source": [
    "students.append('ramu') #to add elements in the list"
   ]
  },
  {
   "cell_type": "code",
   "execution_count": 60,
   "id": "49a1741a-d121-43c7-bd98-6111d96b6217",
   "metadata": {},
   "outputs": [
    {
     "name": "stdout",
     "output_type": "stream",
     "text": [
      "['naveen', 'rohit', 'priya', 'sita', 'ramu']\n"
     ]
    }
   ],
   "source": [
    "print(students)"
   ]
  },
  {
   "cell_type": "code",
   "execution_count": 61,
   "id": "0a1e9603-9f14-4a76-9e8d-0eef4e0442fe",
   "metadata": {},
   "outputs": [
    {
     "name": "stdout",
     "output_type": "stream",
     "text": [
      "['naveen', 'rohit', 'rakesh', 'priya', 'sita', 'ramu']\n"
     ]
    }
   ],
   "source": [
    "students.insert(2,'rakesh') #to add elements in a particular position\n",
    "print(students)"
   ]
  },
  {
   "cell_type": "code",
   "execution_count": 63,
   "id": "62d980b4-3f6e-4be0-8dcd-760b19686ce0",
   "metadata": {},
   "outputs": [
    {
     "name": "stdout",
     "output_type": "stream",
     "text": [
      "['suresh', 'rohit', 'rakesh', 'priya', 'sita', 'ramu', 'ramu']\n"
     ]
    }
   ],
   "source": [
    "students[0]='suresh'\n",
    "print(students)"
   ]
  },
  {
   "cell_type": "code",
   "execution_count": 66,
   "id": "2422f1ef-2342-4e8e-867c-6c247fdfa92b",
   "metadata": {},
   "outputs": [
    {
     "name": "stdout",
     "output_type": "stream",
     "text": [
      "['suresh', 'rohit', 'rakesh', 'priya', 'sita', 'ramu']\n"
     ]
    }
   ],
   "source": [
    "del students[6]\n",
    "print(students)"
   ]
  },
  {
   "cell_type": "code",
   "execution_count": 68,
   "id": "ad8d4d0c-96f8-470e-b879-d5008211e872",
   "metadata": {},
   "outputs": [
    {
     "name": "stdout",
     "output_type": "stream",
     "text": [
      "['suresh', 'rohit', 'rakesh', 'priya']\n",
      "sita\n"
     ]
    }
   ],
   "source": [
    "x=students.pop()\n",
    "print(students)\n",
    "print(x)"
   ]
  },
  {
   "cell_type": "code",
   "execution_count": 69,
   "id": "99ef08de-4a4a-44d2-8894-5dc855ea34c4",
   "metadata": {},
   "outputs": [
    {
     "name": "stdout",
     "output_type": "stream",
     "text": [
      "['suresh', 'rohit', 'rakesh', 'priya']\n"
     ]
    }
   ],
   "source": [
    "print(students)"
   ]
  },
  {
   "cell_type": "code",
   "execution_count": 70,
   "id": "f135193a-261d-4977-bf84-bc1cdecffd50",
   "metadata": {},
   "outputs": [
    {
     "name": "stdout",
     "output_type": "stream",
     "text": [
      "sita\n"
     ]
    }
   ],
   "source": [
    "print(x)"
   ]
  },
  {
   "cell_type": "code",
   "execution_count": 71,
   "id": "ba4b7663-1236-4cfd-a2bf-1c7fc53be71f",
   "metadata": {},
   "outputs": [
    {
     "name": "stdout",
     "output_type": "stream",
     "text": [
      "['suresh', 'rohit', 'rakesh']\n",
      "priya\n"
     ]
    }
   ],
   "source": [
    "a=students.pop()\n",
    "print(students)\n",
    "print(a)"
   ]
  },
  {
   "cell_type": "code",
   "execution_count": 72,
   "id": "2f29c766-03a1-423b-a023-05a3edac86d8",
   "metadata": {},
   "outputs": [
    {
     "name": "stdout",
     "output_type": "stream",
     "text": [
      "['rohit', 'rakesh']\n",
      "suresh\n"
     ]
    }
   ],
   "source": [
    "b=students.pop(0)\n",
    "print(students)\n",
    "print(b)"
   ]
  },
  {
   "cell_type": "code",
   "execution_count": 73,
   "id": "5c2bcdb3-d9ae-4eae-9b46-66d5f0a7caa3",
   "metadata": {},
   "outputs": [
    {
     "data": {
      "text/plain": [
       "list"
      ]
     },
     "execution_count": 73,
     "metadata": {},
     "output_type": "execute_result"
    }
   ],
   "source": [
    "type(students)"
   ]
  },
  {
   "cell_type": "code",
   "execution_count": 75,
   "id": "c49ffa70-42e4-465f-994e-63d375476c41",
   "metadata": {},
   "outputs": [
    {
     "name": "stdout",
     "output_type": "stream",
     "text": [
      "rakesh\n"
     ]
    }
   ],
   "source": [
    "print(students[1])"
   ]
  },
  {
   "cell_type": "code",
   "execution_count": 76,
   "id": "e50ae20c-f8b8-4b2b-b83e-9896857f4e83",
   "metadata": {},
   "outputs": [
    {
     "name": "stdout",
     "output_type": "stream",
     "text": [
      "Rakesh\n"
     ]
    }
   ],
   "source": [
    "print(students[1].title())"
   ]
  },
  {
   "cell_type": "code",
   "execution_count": 77,
   "id": "660fccdf-c248-4d88-a861-e77f7f519392",
   "metadata": {},
   "outputs": [],
   "source": [
    "#organising the list datatypes"
   ]
  },
  {
   "cell_type": "code",
   "execution_count": 78,
   "id": "e7fc61d8-cadd-478d-910e-9a9d08d14bf6",
   "metadata": {},
   "outputs": [
    {
     "name": "stdout",
     "output_type": "stream",
     "text": [
      "['maruthi', 'bmw', 'toyota', 'audi', 'benz']\n"
     ]
    }
   ],
   "source": [
    "cars=[\"maruthi\", \"bmw\", \"toyota\", \"audi\",\"benz\"]\n",
    "print(cars)"
   ]
  },
  {
   "cell_type": "code",
   "execution_count": 79,
   "id": "d70e4242-4032-4fcf-8f5d-fd1d963131cd",
   "metadata": {},
   "outputs": [
    {
     "name": "stdout",
     "output_type": "stream",
     "text": [
      "['audi', 'benz', 'bmw', 'maruthi', 'toyota']\n"
     ]
    }
   ],
   "source": [
    "print(sorted(cars))"
   ]
  },
  {
   "cell_type": "code",
   "execution_count": 80,
   "id": "ca999ed0-9756-4a76-bfdd-08b17822ea35",
   "metadata": {},
   "outputs": [
    {
     "name": "stdout",
     "output_type": "stream",
     "text": [
      "['maruthi', 'bmw', 'toyota', 'audi', 'benz']\n"
     ]
    }
   ],
   "source": [
    "print(cars)"
   ]
  },
  {
   "cell_type": "code",
   "execution_count": 81,
   "id": "756805da-97b7-4f2c-8507-858f1e80a060",
   "metadata": {},
   "outputs": [],
   "source": [
    "cars.sort()"
   ]
  },
  {
   "cell_type": "code",
   "execution_count": 82,
   "id": "91c4215a-1204-4dd5-81d8-05f508f47ea8",
   "metadata": {},
   "outputs": [
    {
     "name": "stdout",
     "output_type": "stream",
     "text": [
      "['audi', 'benz', 'bmw', 'maruthi', 'toyota']\n"
     ]
    }
   ],
   "source": [
    "print(cars)"
   ]
  },
  {
   "cell_type": "code",
   "execution_count": 83,
   "id": "1aa3d6bc-2066-4a5f-848f-175377cd7de5",
   "metadata": {},
   "outputs": [
    {
     "name": "stdout",
     "output_type": "stream",
     "text": [
      "['toyota', 'maruthi', 'bmw', 'benz', 'audi']\n"
     ]
    }
   ],
   "source": [
    "cars.reverse()\n",
    "print(cars)"
   ]
  },
  {
   "cell_type": "code",
   "execution_count": 84,
   "id": "531fa38f-42f8-4709-b7d5-65038bdbedf2",
   "metadata": {},
   "outputs": [
    {
     "data": {
      "text/plain": [
       "5"
      ]
     },
     "execution_count": 84,
     "metadata": {},
     "output_type": "execute_result"
    }
   ],
   "source": [
    "len(cars)"
   ]
  },
  {
   "cell_type": "code",
   "execution_count": null,
   "id": "da903791-6683-4797-9d56-389f106ac32d",
   "metadata": {},
   "outputs": [],
   "source": []
  }
 ],
 "metadata": {
  "kernelspec": {
   "display_name": "Python 3 (ipykernel)",
   "language": "python",
   "name": "python3"
  },
  "language_info": {
   "codemirror_mode": {
    "name": "ipython",
    "version": 3
   },
   "file_extension": ".py",
   "mimetype": "text/x-python",
   "name": "python",
   "nbconvert_exporter": "python",
   "pygments_lexer": "ipython3",
   "version": "3.12.4"
  }
 },
 "nbformat": 4,
 "nbformat_minor": 5
}
